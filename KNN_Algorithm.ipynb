{
  "nbformat": 4,
  "nbformat_minor": 0,
  "metadata": {
    "colab": {
      "name": "KNN-Algorithm.ipynb",
      "provenance": []
    },
    "kernelspec": {
      "name": "python3",
      "display_name": "Python 3"
    }
  },
  "cells": [
    {
      "cell_type": "code",
      "metadata": {
        "id": "psTCLnQF37EL",
        "colab_type": "code",
        "colab": {
          "base_uri": "https://localhost:8080/",
          "height": 34
        },
        "outputId": "c5245315-fabc-46dd-9ce1-6e1dcfdb4f0c"
      },
      "source": [
        "import numpy as np\n",
        "from math import sqrt\n",
        "import warnings\n",
        "from collections import Counter\n",
        "import pandas as pd\n",
        "import random\n",
        "\n",
        "def k_nearest_neighbors(data, predict, k=3):\n",
        "    if len(data) >= k:\n",
        "        warnings.warn('K is set to a value less than total voting groups!')\n",
        "    distances = []\n",
        "    for group in data:\n",
        "        for features in data[group]:\n",
        "            euclidean_distance = np.linalg.norm(np.array(features)-np.array(predict))\n",
        "            distances.append([euclidean_distance, group])\n",
        "\n",
        "    votes = [i[1] for i in sorted(distances)[:k]]\n",
        "    vote_result = Counter(votes).most_common(1)[0][0]\n",
        "    confidence = Counter(votes).most_common(1)[0][1] / k\n",
        "  \n",
        "    return vote_result, confidence\n",
        "\n",
        "\n",
        "df = pd.read_csv(\"breast-cancer-wisconsin.data.txt\")\n",
        "df.replace('?',-99999, inplace=True)\n",
        "df.drop(['id'], 1, inplace=True)\n",
        "full_data = df.astype(float).values.tolist()\n",
        "random.shuffle(full_data)\n",
        "\n",
        "test_size = 0.4\n",
        "train_set = {2:[], 4:[]}\n",
        "test_set = {2:[], 4:[]}\n",
        "train_data = full_data[:-int(test_size*len(full_data))]\n",
        "test_data = full_data[-int(test_size*len(full_data)):]\n",
        "\n",
        "for i in train_data:\n",
        "    train_set[i[-1]].append(i[:-1])\n",
        "    \n",
        "for i in test_data:\n",
        "    test_set[i[-1]].append(i[:-1])\n",
        "\n",
        "correct = 0\n",
        "total = 0\n",
        "\n",
        "for group in test_set:\n",
        "    for data in test_set[group]:\n",
        "        vote,confidence = k_nearest_neighbors(train_set, data, k=5)\n",
        "        if group == vote:\n",
        "            correct += 1\n",
        "        total += 1\n",
        "print('Accuracy:', correct/total)"
      ],
      "execution_count": 2,
      "outputs": [
        {
          "output_type": "stream",
          "text": [
            "Accuracy: 0.9713261648745519\n"
          ],
          "name": "stdout"
        }
      ]
    }
  ]
}